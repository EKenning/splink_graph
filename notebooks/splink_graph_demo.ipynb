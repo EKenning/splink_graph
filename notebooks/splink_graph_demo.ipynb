{
 "cells": [
  {
   "cell_type": "code",
   "execution_count": null,
   "metadata": {},
   "outputs": [],
   "source": [
    "import pyspark\n",
    "from pyspark.context import SparkContext, SparkConf\n",
    "from pyspark.sql import SparkSession\n",
    "from pyspark.sql.window import Window\n",
    "from pyspark.sql.types import *\n",
    "import pyspark.sql.functions as f"
   ]
  },
  {
   "cell_type": "code",
   "execution_count": null,
   "metadata": {},
   "outputs": [],
   "source": [
    "import networkx as nx"
   ]
  },
  {
   "cell_type": "code",
   "execution_count": null,
   "metadata": {},
   "outputs": [],
   "source": []
  },
  {
   "cell_type": "code",
   "execution_count": null,
   "metadata": {},
   "outputs": [],
   "source": [
    "\n",
    "# Add local path to splink_graph\n",
    "import sys\n",
    "sys.path.append(\"../splink_graph/\")\n"
   ]
  },
  {
   "cell_type": "code",
   "execution_count": null,
   "metadata": {},
   "outputs": [],
   "source": [
    "spark = (\n",
    "  SparkSession.builder.master('local[*]')\n",
    "    .appName('GraphUtils')\n",
    "    .config('spark.driver.memory', '8g')\n",
    "    .config(\"spark.sql.shuffle.partitions\", \"8\") \n",
    "    .config('spark.driver.extraClassPath', '/home/jovyan/splink_graph/jars/graphframes-0.7.0-spark2.3-s_2.11.jar')\n",
    "    .config(\"spark.sql.broadcastTimeout\", \"36000\")\n",
    "    .config('spark.jars', '/home/jovyan//home/jovyan/splink_graph/jars/graphframes-0.7.0-spark2.3-s_2.11.jar')\n",
    "    .getOrCreate()\n",
    "  )"
   ]
  },
  {
   "cell_type": "code",
   "execution_count": null,
   "metadata": {},
   "outputs": [],
   "source": [
    "spark\n"
   ]
  },
  {
   "cell_type": "code",
   "execution_count": null,
   "metadata": {},
   "outputs": [],
   "source": [
    "from splink_graph import * "
   ]
  },
  {
   "cell_type": "code",
   "execution_count": null,
   "metadata": {},
   "outputs": [],
   "source": [
    "# Create a Vertex DataFrame with unique ID column \"id\"\n",
    "v = spark.createDataFrame([\n",
    "  (\"a\", \"Alice\", 34),\n",
    "  (\"b\", \"Bob\", 36),\n",
    "  (\"c\", \"Charlie\", 30),\n",
    "  (\"d\", \"Dennis\", 30),    \n",
    "  (\"e\", \"Ernest\", 30), \n",
    "  (\"f\", \"Ford\", 30),\n",
    "  (\"g\", \"George\", 30), \n",
    "  (\"h\", \"Harry\", 30),\n",
    "  (\"i\", \"Ion\", 30),\n",
    "  (\"j\", \"John\", 30),\n",
    "    \n",
    "], [\"id\", \"name\", \"age\"])\n",
    "# Create an Edge DataFrame with \"src\" and \"dst\" columns\n",
    "e = spark.createDataFrame([\n",
    "  (\"a\", \"b\", 0.4),\n",
    "  (\"b\", \"c\", 0.56),\n",
    " \n",
    "  \n",
    "  (\"d\", \"e\", 0.84),\n",
    "  (\"e\", \"f\", 0.65),\n",
    "  (\"f\", \"d\", 0.67),\n",
    "  (\"f\", \"g\", 0.34),\n",
    "  (\"g\", \"h\", 0.99),\n",
    "  (\"h\", \"i\", 0.5),\n",
    "  (\"h\", \"j\", 0.8),]\n",
    "    \n",
    ", [\"src\", \"dst\", \"similarity\"])\n",
    "# Create a GraphFrame\n",
    "from graphframes import *\n",
    "g = GraphFrame(v, e)"
   ]
  },
  {
   "cell_type": "code",
   "execution_count": null,
   "metadata": {},
   "outputs": [],
   "source": []
  },
  {
   "cell_type": "code",
   "execution_count": null,
   "metadata": {},
   "outputs": [],
   "source": [
    "# Check if graphframes library works\n",
    "g.inDegrees.show()"
   ]
  },
  {
   "cell_type": "code",
   "execution_count": null,
   "metadata": {},
   "outputs": [],
   "source": [
    "# create a function to plot a graphframe graph via networkx and matplotlib\n",
    "%matplotlib inline\n",
    "import matplotlib.pyplot as plt\n",
    "\n",
    "def PlotGraph(g):\n",
    "    edge_list = g.edges\n",
    "\n",
    "    Gplot=nx.Graph()\n",
    "    for row in edge_list.select('src','dst','similarity').take(1000):\n",
    "        Gplot.add_edge(row['src'],row['dst'],weight=row['similarity'])\n",
    "        # labels=nx.draw_networkx_labels(Gplot,pos=nx.spring_layout(Gplot))\n",
    "\n",
    "    plt.subplot(121)\n",
    "    nx.draw(Gplot,with_labels=True,font_weight='bold')"
   ]
  },
  {
   "cell_type": "code",
   "execution_count": null,
   "metadata": {},
   "outputs": [],
   "source": [
    "PlotGraph(g)"
   ]
  },
  {
   "cell_type": "code",
   "execution_count": null,
   "metadata": {},
   "outputs": [],
   "source": [
    "#TODO:"
   ]
  },
  {
   "cell_type": "code",
   "execution_count": null,
   "metadata": {},
   "outputs": [],
   "source": []
  },
  {
   "cell_type": "code",
   "execution_count": null,
   "metadata": {},
   "outputs": [],
   "source": []
  }
 ],
 "metadata": {
  "kernelspec": {
   "display_name": "Python 3",
   "language": "python",
   "name": "python3"
  },
  "language_info": {
   "codemirror_mode": {
    "name": "ipython",
    "version": 3
   },
   "file_extension": ".py",
   "mimetype": "text/x-python",
   "name": "python",
   "nbconvert_exporter": "python",
   "pygments_lexer": "ipython3",
   "version": "3.7.6"
  }
 },
 "nbformat": 4,
 "nbformat_minor": 4
}
